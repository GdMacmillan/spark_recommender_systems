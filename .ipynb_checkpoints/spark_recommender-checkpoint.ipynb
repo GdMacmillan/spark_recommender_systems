{
 "cells": [
  {
   "cell_type": "code",
   "execution_count": 10,
   "metadata": {
    "collapsed": false
   },
   "outputs": [],
   "source": [
    "from pyspark.sql import functions as F\n",
    "from pyspark.sql import DataFrameNaFunctions as DFna\n",
    "from pyspark.sql.functions import udf, col, when\n",
    "import matplotlib.pyplot as plt\n",
    "import pyspark as ps\n",
    "import os, sys, requests, json\n",
    "\n",
    "\n",
    "spark = ps.sql.SparkSession.builder \\\n",
    "            .master(\"local[4]\") \\\n",
    "            .appName(\"building recommender\") \\\n",
    "            .getOrCreate() # create a spark session\n",
    "            \n",
    "sc = spark.sparkContext # create a spark context"
   ]
  },
  {
   "cell_type": "code",
   "execution_count": 11,
   "metadata": {
    "collapsed": false
   },
   "outputs": [
    {
     "name": "stdout",
     "output_type": "stream",
     "text": [
      "root\n",
      " |-- movieId: integer (nullable = true)\n",
      " |-- title: string (nullable = true)\n",
      " |-- genres: string (nullable = true)\n",
      "\n"
     ]
    }
   ],
   "source": [
    "# read movies CSV\n",
    "movies_df = spark.read.csv('data/movies/movies.csv',\n",
    "                         header=True,       # use headers or not\n",
    "                         quote='\"',         # char for quotes\n",
    "                         sep=\",\",           # char for separation\n",
    "                         inferSchema=True)  # do we infer schema or not ?\n",
    "movies_df.printSchema()"
   ]
  },
  {
   "cell_type": "code",
   "execution_count": 12,
   "metadata": {
    "collapsed": false
   },
   "outputs": [
    {
     "name": "stdout",
     "output_type": "stream",
     "text": [
      "line count: 9125\n"
     ]
    }
   ],
   "source": [
    "print(\"line count: {}\".format(movies_df.count()))"
   ]
  },
  {
   "cell_type": "code",
   "execution_count": 193,
   "metadata": {
    "collapsed": false
   },
   "outputs": [
    {
     "name": "stdout",
     "output_type": "stream",
     "text": [
      "root\n",
      " |-- userId: integer (nullable = true)\n",
      " |-- movieId: integer (nullable = true)\n",
      " |-- rating: double (nullable = true)\n",
      " |-- timestamp: integer (nullable = true)\n",
      "\n"
     ]
    }
   ],
   "source": [
    "# read ratings CSV\n",
    "ratings_df = spark.read.csv('data/movies/ratings.csv',\n",
    "                         header=True,       # use headers or not\n",
    "                         quote='\"',         # char for quotes\n",
    "                         sep=\",\",           # char for separation\n",
    "                         inferSchema=True)  # do we infer schema or not ?\n",
    "ratings_df.printSchema()\n",
    "\n"
   ]
  },
  {
   "cell_type": "markdown",
   "metadata": {},
   "source": [
    "Lets see how many distinct ratings, users and movies we have total"
   ]
  },
  {
   "cell_type": "code",
   "execution_count": 195,
   "metadata": {
    "collapsed": false
   },
   "outputs": [
    {
     "name": "stdout",
     "output_type": "stream",
     "text": [
      "Got 100004 ratings from 671 users on 9066 movies.\n"
     ]
    }
   ],
   "source": [
    "ratings = ratings_df.rdd\n",
    "\n",
    "numRatings = ratings.count()\n",
    "numUsers = ratings.map(lambda r: r[0]).distinct().count()\n",
    "numMovies = ratings.map(lambda r: r[1]).distinct().count()\n",
    "\n",
    "print \"Got %d ratings from %d users on %d movies.\" % (numRatings, numUsers, numMovies)"
   ]
  },
  {
   "cell_type": "markdown",
   "metadata": {
    "collapsed": false
   },
   "source": [
    "Next we will get the counts of ratings for each movie and show the top 20."
   ]
  },
  {
   "cell_type": "code",
   "execution_count": 196,
   "metadata": {
    "collapsed": false
   },
   "outputs": [
    {
     "name": "stdout",
     "output_type": "stream",
     "text": [
      "+-------+------+\n",
      "|movieId|counts|\n",
      "+-------+------+\n",
      "|   1580|   190|\n",
      "|   2659|     3|\n",
      "|   3794|     5|\n",
      "|   3175|    65|\n",
      "|    471|    49|\n",
      "|   1088|    53|\n",
      "|   1342|    17|\n",
      "|   1645|    60|\n",
      "|   2366|    23|\n",
      "|   6620|    17|\n",
      "|   8638|    17|\n",
      "|  96488|     4|\n",
      "| 160563|     2|\n",
      "|   7982|     3|\n",
      "|   1238|    17|\n",
      "|   1959|    30|\n",
      "|    463|     7|\n",
      "|   2122|    11|\n",
      "|   1591|    15|\n",
      "|   5518|     1|\n",
      "+-------+------+\n",
      "only showing top 20 rows\n",
      "\n"
     ]
    }
   ],
   "source": [
    "movies_counts = ratings_df.groupBy(col(\"movieId\")).agg(F.count(col(\"rating\")).alias(\"counts\"))\n",
    "movies_counts.show()"
   ]
  },
  {
   "cell_type": "code",
   "execution_count": null,
   "metadata": {
    "collapsed": false
   },
   "outputs": [],
   "source": []
  },
  {
   "cell_type": "markdown",
   "metadata": {},
   "source": [
    "Show's .5 increment ratings being chosen with less frequency than whole number values. This is an indicator that perhaps people don't know they can rate in increments of .5. Perhaps this is more indicative of a interface problem with the website rather than the users actual opinion of the movie"
   ]
  },
  {
   "cell_type": "code",
   "execution_count": 16,
   "metadata": {
    "collapsed": false
   },
   "outputs": [],
   "source": [
    "# ratingsRDD = ratings_df.rdd.map(lambda p: Row(userId=int(p[0]), movieId=int(p[1]),\n",
    "#                                      rating=float(p[2])))\n"
   ]
  },
  {
   "cell_type": "markdown",
   "metadata": {},
   "source": [
    "OK let's get something working!\n",
    "First I will split the data in to a training, validation and test set"
   ]
  },
  {
   "cell_type": "code",
   "execution_count": 17,
   "metadata": {
    "collapsed": false
   },
   "outputs": [
    {
     "data": {
      "text/plain": [
       "[Row(userId=1, movieId=31, rating=2.5, timestamp=1260759144),\n",
       " Row(userId=1, movieId=1029, rating=3.0, timestamp=1260759179),\n",
       " Row(userId=1, movieId=1061, rating=3.0, timestamp=1260759182)]"
      ]
     },
     "execution_count": 17,
     "metadata": {},
     "output_type": "execute_result"
    }
   ],
   "source": [
    "ratings_df.take(3)"
   ]
  },
  {
   "cell_type": "code",
   "execution_count": 315,
   "metadata": {
    "collapsed": false
   },
   "outputs": [
    {
     "data": {
      "text/plain": [
       "DataFrame[userId: int, movieId: int, rating: double, timestamp: int]"
      ]
     },
     "execution_count": 315,
     "metadata": {},
     "output_type": "execute_result"
    }
   ],
   "source": [
    "training_df, validation_df, test_df = ratings_df.randomSplit([.6, .2, .2], seed=0L)\n",
    "# training_RDD = training_RDD.rdd.cache()\n",
    "# validation_for_predict_RDD = validation_RDD.rdd.map(lambda x: (x[0], x[1])).cache()\n",
    "# test_for_predict_RDD = test_RDD.rdd.map(lambda x: (x[0], x[1])).cache()\n",
    "training_df"
   ]
  },
  {
   "cell_type": "code",
   "execution_count": 316,
   "metadata": {
    "collapsed": false
   },
   "outputs": [],
   "source": [
    "from pyspark.ml.evaluation import RegressionEvaluator\n",
    "from pyspark.ml.recommendation import ALS\n",
    "from pyspark.ml.tuning import CrossValidator, ParamGridBuilder\n",
    "from pyspark.ml import Pipeline\n",
    "from pyspark.sql import Row\n",
    "import numpy as np\n",
    "import math"
   ]
  },
  {
   "cell_type": "markdown",
   "metadata": {},
   "source": [
    "First I'll try an alternating least squares estimator with the following initial parameters. I'll iterate over the ranks and pick the best model. For error checking I am using Root mean squared error."
   ]
  },
  {
   "cell_type": "code",
   "execution_count": 320,
   "metadata": {
    "collapsed": false
   },
   "outputs": [],
   "source": [
    "seed = 5L\n",
    "iterations = 10\n",
    "regularization_parameter = 0.1\n",
    "ranks = range(4, 12)\n",
    "errors = []\n",
    "err = 0\n",
    "tolerance = 0.02"
   ]
  },
  {
   "cell_type": "code",
   "execution_count": 321,
   "metadata": {
    "collapsed": false
   },
   "outputs": [
    {
     "name": "stdout",
     "output_type": "stream",
     "text": [
      "For rank 4 the RMSE is 0.948992716752\n",
      "For rank 5 the RMSE is 0.948618374438\n",
      "For rank 6 the RMSE is 0.945806714537\n",
      "For rank 7 the RMSE is 0.953022789405\n",
      "For rank 8 the RMSE is 0.946677108696\n",
      "For rank 9 the RMSE is 0.956961948065\n",
      "For rank 10 the RMSE is 0.952181780456\n",
      "For rank 11 the RMSE is 0.950707813636\n",
      "The best model was trained with rank 6\n"
     ]
    }
   ],
   "source": [
    "min_error = float('inf')\n",
    "best_rank = -1\n",
    "best_iteration = -1\n",
    "\n",
    "for rank in ranks:\n",
    "    als = ALS(maxIter=iterations, regParam=regularization_parameter, rank=rank, userCol=\"userId\", itemCol=\"movieId\", ratingCol=\"rating\")\n",
    "    model = als.fit(training_df)\n",
    "    predictions = model.transform(validation_df)\n",
    "    new_predictions = predictions.filter(col('prediction') != np.nan)\n",
    "    evaluator = RegressionEvaluator(metricName=\"rmse\", labelCol=\"rating\", predictionCol=\"prediction\")\n",
    "    rmse = evaluator.evaluate(new_predictions)\n",
    "    errors.append(rmse)\n",
    "\n",
    "    print 'For rank %s the RMSE is %s' % (rank, rmse)\n",
    "    if rmse < min_error:\n",
    "        min_error = rmse\n",
    "        best_rank = rank\n",
    "print 'The best model was trained with rank %s' % best_rank\n",
    "\n"
   ]
  },
  {
   "cell_type": "markdown",
   "metadata": {},
   "source": [
    "Now we will build a CrossValidator to evaluate over the same range of ranks with different regularization constants. I will use sparks CrossValidator class. The CrossValidator requires an Estimator, a set of Estimator ParamMaps, and an Evaluator. The Estimator we will be using is ALS, same as above. We use a ParamGridBuilder to construct a grid of parameters to search over. With 2 values for als.regParam and 8 values for als.rank, this grid will have 2 x 8 = 16 parameter settings for CrossValidator to choose from.\n",
    "\n"
   ]
  },
  {
   "cell_type": "code",
   "execution_count": 322,
   "metadata": {
    "collapsed": false
   },
   "outputs": [],
   "source": [
    "als = ALS(maxIter=iterations, regParam=regularization_parameter, rank=rank, userCol=\"userId\", itemCol=\"movieId\", ratingCol=\"rating\")\n",
    "paramGrid = ParamGridBuilder() \\\n",
    "    .addGrid(als.regParam, [0.1, 0.01]) \\\n",
    "    .addGrid(als.rank, range(4, 12)) \\\n",
    "    .build()\n",
    "evaluator = RegressionEvaluator(metricName=\"rmse\", labelCol=\"rating\", predictionCol=\"prediction\")\n",
    "crossval = CrossValidator(estimator=als,\n",
    "                          estimatorParamMaps=paramGrid,\n",
    "                          evaluator=evaluator,\n",
    "                          numFolds=5)\n",
    "cvModel = crossval.fit(training_df)"
   ]
  },
  {
   "cell_type": "code",
   "execution_count": 324,
   "metadata": {
    "collapsed": false
   },
   "outputs": [
    {
     "name": "stdout",
     "output_type": "stream",
     "text": [
      "the rmse for optimal grid parameters with cross validation is: 0.948992716752\n"
     ]
    }
   ],
   "source": [
    "cvModel_pred = cvModel.transform(validation_df)\n",
    "cvModel_pred = cvModel_pred.filter(col('prediction') != np.nan)\n",
    "rmse = evaluator.evaluate(cvModel_pred)\n",
    "print \"the rmse for optimal grid parameters with cross validation is: {}\".format(rmse)"
   ]
  },
  {
   "cell_type": "markdown",
   "metadata": {},
   "source": [
    "The grid search doesn't perform as well as the above for some reason. I'll use the following final model."
   ]
  },
  {
   "cell_type": "code",
   "execution_count": 325,
   "metadata": {
    "collapsed": false
   },
   "outputs": [
    {
     "name": "stdout",
     "output_type": "stream",
     "text": [
      "the rmse for optimal grid parameters with cross validation is: 0.945806714537\n"
     ]
    }
   ],
   "source": [
    "final_als = ALS(maxIter=10, regParam=0.1, rank=6, userCol=\"userId\", itemCol=\"movieId\", ratingCol=\"rating\")\n",
    "final_model = final_als.fit(training_df)\n",
    "final_pred = final_model.transform(validation_df)\n",
    "final_pred = final_pred.filter(col('prediction') != np.nan)\n",
    "rmse = evaluator.evaluate(final_pred)\n",
    "print \"the rmse for optimal grid parameters with cross validation is: {}\".format(rmse)"
   ]
  },
  {
   "cell_type": "code",
   "execution_count": 326,
   "metadata": {
    "collapsed": false
   },
   "outputs": [
    {
     "name": "stdout",
     "output_type": "stream",
     "text": [
      "root\n",
      " |-- movieId: integer (nullable = true)\n",
      " |-- imdbId: integer (nullable = true)\n",
      " |-- tmdbId: integer (nullable = true)\n",
      "\n"
     ]
    }
   ],
   "source": [
    "# read links CSV\n",
    "links_df = spark.read.csv('data/movies/links.csv',\n",
    "                         header=True,       # use headers or not\n",
    "                         quote='\"',         # char for quotes\n",
    "                         sep=\",\",           # char for separation\n",
    "                         inferSchema=True)  # do we infer schema or not ?\n",
    "links_df.printSchema()"
   ]
  },
  {
   "cell_type": "markdown",
   "metadata": {},
   "source": [
    "Let's now take a hyptothetical user that has already rated some movies. I'll take a random user_id out the range of user id's in the dataset. Next, I get all of their ratings and sort to show the top 10 rated movies."
   ]
  },
  {
   "cell_type": "code",
   "execution_count": 327,
   "metadata": {
    "collapsed": false
   },
   "outputs": [],
   "source": [
    "np.random.seed(42)\n",
    "user_id = np.random.choice(numUsers)"
   ]
  },
  {
   "cell_type": "code",
   "execution_count": 328,
   "metadata": {
    "collapsed": false
   },
   "outputs": [
    {
     "data": {
      "text/plain": [
       "[Row(userId=102, movieId=2240, rating=1.0, timestamp=957894741),\n",
       " Row(userId=102, movieId=1888, rating=1.0, timestamp=957895013),\n",
       " Row(userId=102, movieId=37, rating=1.0, timestamp=959976593),\n",
       " Row(userId=102, movieId=3354, rating=1.0, timestamp=957893451),\n",
       " Row(userId=102, movieId=3484, rating=1.0, timestamp=957893428),\n",
       " Row(userId=102, movieId=3511, rating=1.0, timestamp=957893428),\n",
       " Row(userId=102, movieId=2541, rating=1.0, timestamp=957894760),\n",
       " Row(userId=102, movieId=2548, rating=1.0, timestamp=957980378),\n",
       " Row(userId=102, movieId=1584, rating=2.0, timestamp=957894285),\n",
       " Row(userId=102, movieId=590, rating=2.0, timestamp=957894532)]"
      ]
     },
     "execution_count": 328,
     "metadata": {},
     "output_type": "execute_result"
    }
   ],
   "source": [
    "new_user_ratings = ratings_df.filter(ratings_df.userId == user_id)\n",
    "new_user_ratings.sort('rating', ascending=True).take(10) # top rated movies for this user"
   ]
  },
  {
   "cell_type": "code",
   "execution_count": 329,
   "metadata": {
    "collapsed": false
   },
   "outputs": [
    {
     "name": "stdout",
     "output_type": "stream",
     "text": [
      "+-------+------------------+\n",
      "|summary|            rating|\n",
      "+-------+------------------+\n",
      "|  count|               678|\n",
      "|   mean|3.9749262536873156|\n",
      "| stddev|0.8529848074277973|\n",
      "|    min|               1.0|\n",
      "|    max|               5.0|\n",
      "+-------+------------------+\n",
      "\n"
     ]
    }
   ],
   "source": [
    "new_user_ratings.describe('rating').show()"
   ]
  },
  {
   "cell_type": "code",
   "execution_count": 330,
   "metadata": {
    "collapsed": false
   },
   "outputs": [
    {
     "data": {
      "image/png": "[encoded data removed]",
      "text/plain": [
       "<matplotlib.figure.Figure at 0x10fc9dd50>"
      ]
     },
     "metadata": {},
     "output_type": "display_data"
    }
   ],
   "source": [
    "new_user_ratings.toPandas()['rating'].hist()\n",
    "plt.show()"
   ]
  },
  {
   "cell_type": "markdown",
   "metadata": {},
   "source": [
    "This is interesting, the users ratings are skewed to the high side. The following will get a list of all unrated movieIds with more than 25 ratings."
   ]
  },
  {
   "cell_type": "code",
   "execution_count": 331,
   "metadata": {
    "collapsed": false
   },
   "outputs": [],
   "source": [
    "new_user_rated_movieIds = [i.movieId for i in new_user_ratings.select('movieId').distinct().collect()]\n",
    "movieIds = [i.movieId for i in movies_counts.filter(movies_counts.counts > 25).select('movieId').distinct().collect()]\n",
    "new_user_unrated_movieIds = list(set(movieIds) - set(new_user_rated_movieIds))"
   ]
  },
  {
   "cell_type": "markdown",
   "metadata": {},
   "source": [
    "Lets now take all the unrated movie id's for this user and create a spark dataframe with 0 for the predicted rating."
   ]
  },
  {
   "cell_type": "code",
   "execution_count": 332,
   "metadata": {
    "collapsed": false
   },
   "outputs": [],
   "source": [
    "import time\n",
    "num_ratings = len(new_user_unrated_movieIds)\n",
    "cols = ('userId', 'movieId', 'timestamp')\n",
    "timestamps = [int(time.time())] * num_ratings\n",
    "userIds = [user_id] * num_ratings\n",
    "# ratings = [0] * num_ratings\n",
    "new_user_preds = sqlContext.createDataFrame(zip(userIds, new_user_unrated_movieIds, timestamps), cols)"
   ]
  },
  {
   "cell_type": "code",
   "execution_count": 333,
   "metadata": {
    "collapsed": false
   },
   "outputs": [],
   "source": [
    "new_user_preds = final_model.transform(new_user_preds).filter(col('prediction') != np.nan)"
   ]
  },
  {
   "cell_type": "code",
   "execution_count": 334,
   "metadata": {
    "collapsed": false
   },
   "outputs": [
    {
     "data": {
      "text/plain": [
       "[Row(userId=102, movieId=306, timestamp=1494286154, prediction=4.91982889175415),\n",
       " Row(userId=102, movieId=44555, timestamp=1494286154, prediction=4.77939510345459),\n",
       " Row(userId=102, movieId=319, timestamp=1494286154, prediction=4.753486156463623),\n",
       " Row(userId=102, movieId=6016, timestamp=1494286154, prediction=4.67483377456665),\n",
       " Row(userId=102, movieId=1060, timestamp=1494286154, prediction=4.66062593460083),\n",
       " Row(userId=102, movieId=27773, timestamp=1494286154, prediction=4.652323246002197),\n",
       " Row(userId=102, movieId=56782, timestamp=1494286154, prediction=4.606232166290283),\n",
       " Row(userId=102, movieId=4226, timestamp=1494286154, prediction=4.60533332824707),\n",
       " Row(userId=102, movieId=69481, timestamp=1494286154, prediction=4.570173740386963),\n",
       " Row(userId=102, movieId=3000, timestamp=1494286154, prediction=4.560894012451172)]"
      ]
     },
     "execution_count": 334,
     "metadata": {},
     "output_type": "execute_result"
    }
   ],
   "source": [
    "new_user_preds.sort('prediction', ascending=False).take(10)"
   ]
  },
  {
   "cell_type": "markdown",
   "metadata": {},
   "source": [
    "We can search for movie posters by id in the movie database and then grab links to the image files from themoviedb.org. The API key is necessary for querying the API. I store it in an environment variable, so if you want to reproduce this, you have to register on themoviedb.org."
   ]
  },
  {
   "cell_type": "code",
   "execution_count": 335,
   "metadata": {
    "collapsed": false
   },
   "outputs": [],
   "source": [
    "# Get base url filepath structure. w185 corresponds to size of movie poster.\n",
    "api_key = os.environ['MOVIE_DB_API_KEY']\n",
    "\n",
    "headers = {'Accept': 'application/json'}\n",
    "payload = {'api_key': api_key} \n",
    "response = requests.get(\"http://api.themoviedb.org/3/configuration\", params=payload, headers=headers)\n",
    "response = json.loads(response.text)\n",
    "base_url = response['images']['base_url'] + 'w185'\n",
    "\n",
    "def get_poster(tmdb_id, base_url):\n",
    "    \n",
    "    # Query themoviedb.org API for movie poster path.\n",
    "    movie_url = 'http://api.themoviedb.org/3/movie/{:}/images'.format(tmdb_id)\n",
    "    headers = {'Accept': 'application/json'}\n",
    "    payload = {'api_key': api_key} \n",
    "    response = requests.get(movie_url, params=payload, headers=headers)\n",
    "    file_path = json.loads(response.text)['posters'][0]['file_path']\n",
    "    return base_url + file_path"
   ]
  },
  {
   "cell_type": "code",
   "execution_count": 336,
   "metadata": {
    "collapsed": true
   },
   "outputs": [],
   "source": [
    "from IPython.display import Image\n",
    "from IPython.display import display"
   ]
  },
  {
   "cell_type": "markdown",
   "metadata": {
    "collapsed": false
   },
   "source": [
    "Now that we have a pipeline to go directly from the TheMovieDB id to the url to displaying the movie poster. With this machinery in hand lets first get the top rated movies the user has already rated:"
   ]
  },
  {
   "cell_type": "code",
   "execution_count": 337,
   "metadata": {
    "collapsed": false
   },
   "outputs": [],
   "source": [
    "new_user_ratings = new_user_ratings.sort('rating', ascending=False).join(links_df, new_user_ratings.movieId == links_df.movieId)"
   ]
  },
  {
   "cell_type": "code",
   "execution_count": 338,
   "metadata": {
    "collapsed": false
   },
   "outputs": [],
   "source": [
    "posters = tuple(Image(url=get_poster(movie.tmdbId, base_url)) for movie in new_user_ratings.take(10))"
   ]
  },
  {
   "cell_type": "code",
   "execution_count": 339,
   "metadata": {
    "collapsed": false,
    "scrolled": false
   },
   "outputs": [
    {
     "data": {
      "text/html": [
       "<img src=\"http://image.tmdb.org/t/p/w185/nGcgVnsL5yLKqg2X4OZcPetsHdd.jpg\"/>"
      ],
      "text/plain": [
       "<IPython.core.display.Image object>"
      ]
     },
     "metadata": {},
     "output_type": "display_data"
    },
    {
     "data": {
      "text/html": [
       "<img src=\"http://image.tmdb.org/t/p/w185/yzK39sdkGoiSyKZEWT6HQzaC0BX.jpg\"/>"
      ],
      "text/plain": [
       "<IPython.core.display.Image object>"
      ]
     },
     "metadata": {},
     "output_type": "display_data"
    },
    {
     "data": {
      "text/html": [
       "<img src=\"http://image.tmdb.org/t/p/w185/vWGGFgy36ZoOQJC9uA6FmaAw2ar.jpg\"/>"
      ],
      "text/plain": [
       "<IPython.core.display.Image object>"
      ]
     },
     "metadata": {},
     "output_type": "display_data"
    },
    {
     "data": {
      "text/html": [
       "<img src=\"http://image.tmdb.org/t/p/w185/5ek49TUeqStPmKwNdxrCSUAdXNe.jpg\"/>"
      ],
      "text/plain": [
       "<IPython.core.display.Image object>"
      ]
     },
     "metadata": {},
     "output_type": "display_data"
    },
    {
     "data": {
      "text/html": [
       "<img src=\"http://image.tmdb.org/t/p/w185/btTdmkgIvOi0FFip1sPuZI2oQG6.jpg\"/>"
      ],
      "text/plain": [
       "<IPython.core.display.Image object>"
      ]
     },
     "metadata": {},
     "output_type": "display_data"
    },
    {
     "data": {
      "text/html": [
       "<img src=\"http://image.tmdb.org/t/p/w185/jQLoOPwNxyILwDbdhn9DsfQz0Sg.jpg\"/>"
      ],
      "text/plain": [
       "<IPython.core.display.Image object>"
      ]
     },
     "metadata": {},
     "output_type": "display_data"
    },
    {
     "data": {
      "text/html": [
       "<img src=\"http://image.tmdb.org/t/p/w185/ha3niQHexpnQgFgK8SNnrtpctv.jpg\"/>"
      ],
      "text/plain": [
       "<IPython.core.display.Image object>"
      ]
     },
     "metadata": {},
     "output_type": "display_data"
    },
    {
     "data": {
      "text/html": [
       "<img src=\"http://image.tmdb.org/t/p/w185/jvxLLHwpK52ZJUusd2RJv8oLHUJ.jpg\"/>"
      ],
      "text/plain": [
       "<IPython.core.display.Image object>"
      ]
     },
     "metadata": {},
     "output_type": "display_data"
    },
    {
     "data": {
      "text/html": [
       "<img src=\"http://image.tmdb.org/t/p/w185/wbVGRBYPRRahIZNGXY9TfHDUSc2.jpg\"/>"
      ],
      "text/plain": [
       "<IPython.core.display.Image object>"
      ]
     },
     "metadata": {},
     "output_type": "display_data"
    },
    {
     "data": {
      "text/html": [
       "<img src=\"http://image.tmdb.org/t/p/w185/fdCWRMe2MLX2wzKdtItXFOJj5FJ.jpg\"/>"
      ],
      "text/plain": [
       "<IPython.core.display.Image object>"
      ]
     },
     "metadata": {},
     "output_type": "display_data"
    }
   ],
   "source": [
    "display(*posters)"
   ]
  },
  {
   "cell_type": "markdown",
   "metadata": {},
   "source": [
    "Cool, now let's see what top recommendations are for this user."
   ]
  },
  {
   "cell_type": "code",
   "execution_count": 340,
   "metadata": {
    "collapsed": false
   },
   "outputs": [],
   "source": [
    "new_user_preds = new_user_preds.sort('prediction', ascending=False).join(links_df, new_user_preds.movieId == links_df.movieId)"
   ]
  },
  {
   "cell_type": "code",
   "execution_count": 341,
   "metadata": {
    "collapsed": false
   },
   "outputs": [],
   "source": [
    "posters = tuple(Image(url=get_poster(movie.tmdbId, base_url)) for movie in new_user_preds.take(10))"
   ]
  },
  {
   "cell_type": "code",
   "execution_count": 342,
   "metadata": {
    "collapsed": false,
    "scrolled": false
   },
   "outputs": [
    {
     "data": {
      "text/html": [
       "<img src=\"http://image.tmdb.org/t/p/w185/77CFEssoKesi4zvtADEpIrSKhA3.jpg\"/>"
      ],
      "text/plain": [
       "<IPython.core.display.Image object>"
      ]
     },
     "metadata": {},
     "output_type": "display_data"
    },
    {
     "data": {
      "text/html": [
       "<img src=\"http://image.tmdb.org/t/p/w185/iJ8EJyjBcb8wkXEEjH0Z3y5SlO7.jpg\"/>"
      ],
      "text/plain": [
       "<IPython.core.display.Image object>"
      ]
     },
     "metadata": {},
     "output_type": "display_data"
    },
    {
     "data": {
      "text/html": [
       "<img src=\"http://image.tmdb.org/t/p/w185/qak9QuEiH5ENwqxyVEO0onegCx6.jpg\"/>"
      ],
      "text/plain": [
       "<IPython.core.display.Image object>"
      ]
     },
     "metadata": {},
     "output_type": "display_data"
    },
    {
     "data": {
      "text/html": [
       "<img src=\"http://image.tmdb.org/t/p/w185/spSSfbuAarmqjiDCg1B5RxCxNno.jpg\"/>"
      ],
      "text/plain": [
       "<IPython.core.display.Image object>"
      ]
     },
     "metadata": {},
     "output_type": "display_data"
    },
    {
     "data": {
      "text/html": [
       "<img src=\"http://image.tmdb.org/t/p/w185/h1nLEgXCNK6sQgup22SYgNTrwJm.jpg\"/>"
      ],
      "text/plain": [
       "<IPython.core.display.Image object>"
      ]
     },
     "metadata": {},
     "output_type": "display_data"
    },
    {
     "data": {
      "text/html": [
       "<img src=\"http://image.tmdb.org/t/p/w185/rIZX6X0MIHYEebk6W4LABT9VP2c.jpg\"/>"
      ],
      "text/plain": [
       "<IPython.core.display.Image object>"
      ]
     },
     "metadata": {},
     "output_type": "display_data"
    },
    {
     "data": {
      "text/html": [
       "<img src=\"http://image.tmdb.org/t/p/w185/bFgqkuAFBHNuq0oTtewHwuLVWSO.jpg\"/>"
      ],
      "text/plain": [
       "<IPython.core.display.Image object>"
      ]
     },
     "metadata": {},
     "output_type": "display_data"
    },
    {
     "data": {
      "text/html": [
       "<img src=\"http://image.tmdb.org/t/p/w185/fQMSaP88cf1nz4qwuNEEFtazuDM.jpg\"/>"
      ],
      "text/plain": [
       "<IPython.core.display.Image object>"
      ]
     },
     "metadata": {},
     "output_type": "display_data"
    },
    {
     "data": {
      "text/html": [
       "<img src=\"http://image.tmdb.org/t/p/w185/uduCNFTuEcbvhvK8rrvNdf3ahzW.jpg\"/>"
      ],
      "text/plain": [
       "<IPython.core.display.Image object>"
      ]
     },
     "metadata": {},
     "output_type": "display_data"
    },
    {
     "data": {
      "text/html": [
       "<img src=\"http://image.tmdb.org/t/p/w185/gzlJkVfWV5VEG5xK25cvFGJgkDz.jpg\"/>"
      ],
      "text/plain": [
       "<IPython.core.display.Image object>"
      ]
     },
     "metadata": {},
     "output_type": "display_data"
    }
   ],
   "source": [
    "display(*posters)"
   ]
  },
  {
   "cell_type": "markdown",
   "metadata": {},
   "source": [
    "And just out of curriosity lets look at the distribution of predicted ratings"
   ]
  },
  {
   "cell_type": "code",
   "execution_count": 343,
   "metadata": {
    "collapsed": false
   },
   "outputs": [
    {
     "data": {
      "image/png": "[encoded data removed]",
      "text/plain": [
       "<matplotlib.figure.Figure at 0x10f9e1b10>"
      ]
     },
     "metadata": {},
     "output_type": "display_data"
    }
   ],
   "source": [
    "new_user_preds.toPandas()['prediction'].hist()\n",
    "plt.show()"
   ]
  },
  {
   "cell_type": "markdown",
   "metadata": {},
   "source": [
    "This show that the distribution of ratings assumes a gaussian near the mean of the users original ratings distribution "
   ]
  },
  {
   "cell_type": "markdown",
   "metadata": {},
   "source": [
    "This code proves we can take a sample of user ratings and using Apache Spark's ML library, train a model to give recomendations for a user that has previously rated movies on the site. If I were going to predict ratings for a new user. I would have a user interface available to take some initial ratings of a number of movies. From these initial reviews, I would form a spark dataframe object to transform with the trained ALS estimator. Some follow on work to this model could be a temporal model where we take into account the trend in user ratings over time to try and better predict future ratings."
   ]
  },
  {
   "cell_type": "code",
   "execution_count": null,
   "metadata": {
    "collapsed": true
   },
   "outputs": [],
   "source": []
  }
 ],
 "metadata": {
  "anaconda-cloud": {},
  "kernelspec": {
   "display_name": "Python [conda root]",
   "language": "python",
   "name": "conda-root-py"
  },
  "language_info": {
   "codemirror_mode": {
    "name": "ipython",
    "version": 2
   },
   "file_extension": ".py",
   "mimetype": "text/x-python",
   "name": "python",
   "nbconvert_exporter": "python",
   "pygments_lexer": "ipython2",
   "version": "2.7.13"
  }
 },
 "nbformat": 4,
 "nbformat_minor": 1
}
